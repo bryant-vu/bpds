{
 "cells": [
  {
   "cell_type": "markdown",
   "metadata": {},
   "source": [
    "# Abstract"
   ]
  },
  {
   "cell_type": "markdown",
   "metadata": {},
   "source": [
    "# Background\n",
    "\n",
    "##### Frame problem\n",
    "Most of the time I don't know what I should be looking at when I peruse the wine aisle. I'll look at a row of wine and ask myself: Will this wine taste good? Why is this one more expensive than the other one? What does Cabernet mean? Does it *really* matter where a wine comes from? How do you even rate these things?\n",
    "\n",
    "We wanted to understand how wines were priced to better fuel our alcholic habits. Living in California, we are spoiled to reside in one of the most wine rich areas in the world. Is it *worth* it to spend some extra money for a Spanish wine to only taste the same as what I could grow in my backyard? How do you even determine how it will be better? We'd drink it either way, but we're frugal alcoholics. \n",
    "\n",
    "##### Introduce hypothesis\n",
    "This notebook will answer the factors that lead into pricing wines. "
   ]
  },
  {
   "cell_type": "markdown",
   "metadata": {},
   "source": [
    "# Dataset\n",
    "\n",
    "##### Where did data come from\n",
    "The data set came kaggle user zynicide in [CSV](https://www.kaggle.com/zynicide/wine-reviews/data) format. Data was scraped from [Wine Enthusiast](https://www.winemag.com/?s=&drink_type=wine) and column metadata information can be found in the CSV link. \n",
    "\n",
    "Interesting points to note: \n",
    "- Wine Enthusiast only post reviews for wines scoring >=80 points so this dataset only contains such wines.\n",
    "- title, taster_name, taster_twitter_handle can be found in v2 of the dataset\n",
    "##### Why do we like this data\n",
    "##### Clean data\n",
    "##### Explore data (find patterns, show visuals) -- use statistics"
   ]
  },
  {
   "cell_type": "markdown",
   "metadata": {},
   "source": [
    "# Modeling\n",
    "\n",
    "##### Test Case: Univariate linear regression\n",
    "Univariate linear regression is a simple model that focuses on the relationship between a dependent variable and an independent variable. In this simple linear model, we'd like to study the relationship between [varaible] and wine pricing to understand how the pricing model is affected.\n",
    "\n",
    "We will proceed with a hypothesis parameter and then evaluating the error using orderinary least squares (OLS).\n",
    "\n",
    "##### Full Model: Random Forest Model\n",
    "The linear regression model works well with a single variable case, however lacks in complexity of nonlinear and interdependent relationships. A random forest model and capture those. A random forest decision tree is an ensemble method. \n",
    "\n",
    "We'd like to create a model that understands pricing using the rest of the data in the dataset and evaluate the error from this model against the univariate model\n",
    "##### choose ds model and explain"
   ]
  },
  {
   "cell_type": "markdown",
   "metadata": {},
   "source": [
    "# Test Case: Univariate linear regression\n",
    "\n",
    "##### segment data\n",
    "##### run analysis\n",
    "##### infer to other segments of data"
   ]
  },
  {
   "cell_type": "markdown",
   "metadata": {},
   "source": [
    "# Full Model: Random Forest Model\n",
    "\n",
    "##### run analysis \n",
    "##### compare to test case(s)"
   ]
  },
  {
   "cell_type": "markdown",
   "metadata": {},
   "source": [
    "# Conclusions\n",
    "\n",
    "##### Explain findings"
   ]
  },
  {
   "cell_type": "code",
   "execution_count": null,
   "metadata": {},
   "outputs": [],
   "source": []
  }
 ],
 "metadata": {
  "kernelspec": {
   "display_name": "Python 3",
   "language": "python",
   "name": "python3"
  },
  "language_info": {
   "codemirror_mode": {
    "name": "ipython",
    "version": 3
   },
   "file_extension": ".py",
   "mimetype": "text/x-python",
   "name": "python",
   "nbconvert_exporter": "python",
   "pygments_lexer": "ipython3",
   "version": "3.6.4"
  }
 },
 "nbformat": 4,
 "nbformat_minor": 2
}
