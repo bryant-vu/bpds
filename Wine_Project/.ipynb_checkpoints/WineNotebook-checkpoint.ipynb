{
 "cells": [
  {
   "cell_type": "markdown",
   "metadata": {},
   "source": [
    "# Abstract"
   ]
  },
  {
   "cell_type": "markdown",
   "metadata": {},
   "source": [
    "# Background\n",
    "\n",
    "##### Frame problem\n",
    "Most of the time I don't know what I should be looking at when I peruse the wine aisle. I'll look at a row of wine and ask myself: Will this wine taste good? Why is this one more expensive than the other one? What does Cabernet mean? Does it *really* matter where a wine comes from? How do you even rate these things?\n",
    "\n",
    "We wanted to understand how wines were priced to better fuel our alcholic habits. Living in California, we are spoiled to reside in one of the most wine rich areas in the world. Is it *worth* it to spend some extra money for a Spanish wine to only taste the same as what I could grow in my backyard? How do you even determine how it will be better? We'd drink it either way, but we're frugal alcoholics. \n",
    "\n",
    "##### Introduce hypothesis\n",
    "This notebook will answer the factors that lead into pricing wines. "
   ]
  },
  {
   "cell_type": "markdown",
   "metadata": {},
   "source": [
    "# Dataset\n",
    "\n",
    "##### Where did data come from\n",
    "The data set came kaggle user zynicide in [CSV](https://www.kaggle.com/zynicide/wine-reviews/data) format. Data was scraped from [Wine Enthusiast](https://www.winemag.com/?s=&drink_type=wine) and column metadata information can be found in the CSV link. \n",
    "\n",
    "Interesting points to note: \n",
    "- Wine Enthusiast only post reviews for wines scoring >=80 points so this dataset only contains such wines.\n",
    "- title, taster_name, taster_twitter_handle can be found in v2 of the dataset\n",
    "##### Why do we like this data\n",
    "##### Clean data\n",
    "5atterns, show visuals) -- use statistics0"
   ]
  },
  {
   "cell_type": "markdown",
   "metadata": {},
   "source": [
    "# Selecting the modules\n",
    "\n",
    "pandas - dataframe manipulation\n",
    "\n",
    "matplotlib - plotting library\n",
    "\n",
    "numpy - mathematic manipuations for arrays\n",
    "\n",
    "statsmodels - statistical method, mainly linear regresion\n",
    "\n",
    "scipy.stats - probability statistics\n",
    "\n",
    "seaborn - attractive visualization library based on matplotlib"
   ]
  },
  {
   "cell_type": "code",
   "execution_count": 2,
   "metadata": {},
   "outputs": [
    {
     "name": "stderr",
     "output_type": "stream",
     "text": [
      "/usr/local/lib/python2.7/dist-packages/statsmodels/compat/pandas.py:56: FutureWarning: The pandas.core.datetools module is deprecated and will be removed in a future version. Please use the pandas.tseries module instead.\n",
      "  from pandas.core import datetools\n"
     ]
    },
    {
     "data": {
      "text/plain": [
       "(150930, 11)"
      ]
     },
     "execution_count": 2,
     "metadata": {},
     "output_type": "execute_result"
    }
   ],
   "source": [
    "import pandas as pd\n",
    "import matplotlib as plt\n",
    "import numpy as np\n",
    "import statsmodels.api as sm\n",
    "import scipy.stats as stats\n",
    "import seaborn\n",
    "\n",
    "%matplotlib inline\n",
    "\n",
    "df = pd.read_csv(\"winemag-data_first150k.csv\")\n",
    "\n",
    "#display total number of rows and columns in dataset\n",
    "df.shape"
   ]
  },
  {
   "cell_type": "code",
   "execution_count": 21,
   "metadata": {},
   "outputs": [
    {
     "data": {
      "text/html": [
       "<div>\n",
       "<style scoped>\n",
       "    .dataframe tbody tr th:only-of-type {\n",
       "        vertical-align: middle;\n",
       "    }\n",
       "\n",
       "    .dataframe tbody tr th {\n",
       "        vertical-align: top;\n",
       "    }\n",
       "\n",
       "    .dataframe thead th {\n",
       "        text-align: right;\n",
       "    }\n",
       "</style>\n",
       "<table border=\"1\" class=\"dataframe\">\n",
       "  <thead>\n",
       "    <tr style=\"text-align: right;\">\n",
       "      <th></th>\n",
       "      <th>Unnamed: 0</th>\n",
       "      <th>country</th>\n",
       "      <th>description</th>\n",
       "      <th>designation</th>\n",
       "      <th>points</th>\n",
       "      <th>price</th>\n",
       "      <th>province</th>\n",
       "      <th>region_1</th>\n",
       "      <th>region_2</th>\n",
       "      <th>variety</th>\n",
       "      <th>winery</th>\n",
       "    </tr>\n",
       "  </thead>\n",
       "  <tbody>\n",
       "    <tr>\n",
       "      <th>0</th>\n",
       "      <td>0</td>\n",
       "      <td>US</td>\n",
       "      <td>This tremendous 100% varietal wine hails from ...</td>\n",
       "      <td>Martha's Vineyard</td>\n",
       "      <td>96</td>\n",
       "      <td>235.0</td>\n",
       "      <td>California</td>\n",
       "      <td>Napa Valley</td>\n",
       "      <td>Napa</td>\n",
       "      <td>Cabernet Sauvignon</td>\n",
       "      <td>Heitz</td>\n",
       "    </tr>\n",
       "    <tr>\n",
       "      <th>1</th>\n",
       "      <td>1</td>\n",
       "      <td>Spain</td>\n",
       "      <td>Ripe aromas of fig, blackberry and cassis are ...</td>\n",
       "      <td>Carodorum Selección Especial Reserva</td>\n",
       "      <td>96</td>\n",
       "      <td>110.0</td>\n",
       "      <td>Northern Spain</td>\n",
       "      <td>Toro</td>\n",
       "      <td>NaN</td>\n",
       "      <td>Tinta de Toro</td>\n",
       "      <td>Bodega Carmen Rodríguez</td>\n",
       "    </tr>\n",
       "    <tr>\n",
       "      <th>2</th>\n",
       "      <td>2</td>\n",
       "      <td>US</td>\n",
       "      <td>Mac Watson honors the memory of a wine once ma...</td>\n",
       "      <td>Special Selected Late Harvest</td>\n",
       "      <td>96</td>\n",
       "      <td>90.0</td>\n",
       "      <td>California</td>\n",
       "      <td>Knights Valley</td>\n",
       "      <td>Sonoma</td>\n",
       "      <td>Sauvignon Blanc</td>\n",
       "      <td>Macauley</td>\n",
       "    </tr>\n",
       "    <tr>\n",
       "      <th>3</th>\n",
       "      <td>3</td>\n",
       "      <td>US</td>\n",
       "      <td>This spent 20 months in 30% new French oak, an...</td>\n",
       "      <td>Reserve</td>\n",
       "      <td>96</td>\n",
       "      <td>65.0</td>\n",
       "      <td>Oregon</td>\n",
       "      <td>Willamette Valley</td>\n",
       "      <td>Willamette Valley</td>\n",
       "      <td>Pinot Noir</td>\n",
       "      <td>Ponzi</td>\n",
       "    </tr>\n",
       "    <tr>\n",
       "      <th>4</th>\n",
       "      <td>4</td>\n",
       "      <td>France</td>\n",
       "      <td>This is the top wine from La Bégude, named aft...</td>\n",
       "      <td>La Brûlade</td>\n",
       "      <td>95</td>\n",
       "      <td>66.0</td>\n",
       "      <td>Provence</td>\n",
       "      <td>Bandol</td>\n",
       "      <td>NaN</td>\n",
       "      <td>Provence red blend</td>\n",
       "      <td>Domaine de la Bégude</td>\n",
       "    </tr>\n",
       "  </tbody>\n",
       "</table>\n",
       "</div>"
      ],
      "text/plain": [
       "   Unnamed: 0 country                                        description  \\\n",
       "0           0      US  This tremendous 100% varietal wine hails from ...   \n",
       "1           1   Spain  Ripe aromas of fig, blackberry and cassis are ...   \n",
       "2           2      US  Mac Watson honors the memory of a wine once ma...   \n",
       "3           3      US  This spent 20 months in 30% new French oak, an...   \n",
       "4           4  France  This is the top wine from La Bégude, named aft...   \n",
       "\n",
       "                            designation  points  price        province  \\\n",
       "0                     Martha's Vineyard      96  235.0      California   \n",
       "1  Carodorum Selección Especial Reserva      96  110.0  Northern Spain   \n",
       "2         Special Selected Late Harvest      96   90.0      California   \n",
       "3                               Reserve      96   65.0          Oregon   \n",
       "4                            La Brûlade      95   66.0        Provence   \n",
       "\n",
       "            region_1           region_2             variety  \\\n",
       "0        Napa Valley               Napa  Cabernet Sauvignon   \n",
       "1               Toro                NaN       Tinta de Toro   \n",
       "2     Knights Valley             Sonoma     Sauvignon Blanc   \n",
       "3  Willamette Valley  Willamette Valley          Pinot Noir   \n",
       "4             Bandol                NaN  Provence red blend   \n",
       "\n",
       "                    winery  \n",
       "0                    Heitz  \n",
       "1  Bodega Carmen Rodríguez  \n",
       "2                 Macauley  \n",
       "3                    Ponzi  \n",
       "4     Domaine de la Bégude  "
      ]
     },
     "execution_count": 21,

     "metadata": {},
     "output_type": "execute_result"
    }
   ],
   "source": [
    "#display first 5 rows of data to get a quick overview\n",
    "df.head()"
   ]
  },
  {
   "cell_type": "markdown",
   "metadata": {},
   "source": [
    "Let's figure out the number of null values (NaN) for each category header by summing them together with the following code:"
   ]
  },
  {
   "cell_type": "code",
   "execution_count": 5,
   "metadata": {},
   "outputs": [
    {
     "data": {
      "text/plain": [
       "Unnamed: 0         0\n",
       "country            5\n",
       "description        0\n",
       "designation    45735\n",
       "points             0\n",
       "price          13695\n",
       "province           5\n",
       "region_1       25060\n",
       "region_2       89977\n",
       "variety            0\n",
       "winery             0\n",
       "dtype: int64"
      ]
     },
     "execution_count": 5,
     "metadata": {},
     "output_type": "execute_result"
    }
   ],
   "source": [
    "#find columns with low null value count to use for analysis. lots of null value will skew data.\n",
    "\n",
    "df.isnull().sum()"
   ]
  },
  {
   "cell_type": "code",
   "execution_count": 22,
   "metadata": {},
   "outputs": [
    {
     "data": {
      "text/plain": [
       "Unnamed: 0       int64\n",
       "country         object\n",
       "description     object\n",
       "designation     object\n",
       "points           int64\n",
       "price          float64\n",
       "province        object\n",
       "region_1        object\n",
       "region_2        object\n",
       "variety         object\n",
       "winery          object\n",
       "dtype: object"
      ]
     },
     "execution_count": 22,
     "metadata": {},
     "output_type": "execute_result"
    }
   ],
   "source": [
    "#display column data types\n",
    "df.dtypes"
   ]
  },
  {
   "cell_type": "markdown",
   "metadata": {},
   "source": [
    "We are separating the dataset into a set for training and testing. The training data set will help us determine the relationship between the rating of a wine and the price. \n",
    "\n",
    "We are dropping rows in categories *price* and *points* that have null values since having no values is not helpful for this excercise. This is akin to supervised learning where we try to predict a wine's known price based on its point value. This will be our train data to setup a model. \n",
    "\n",
    "Since we have null values in price, we can use the data to predict what price they *would* be by becoming our test dataset. Also known as unsupervised learning."
   ]
  },
  {
   "cell_type": "code",
   "execution_count": 6,
   "metadata": {},
   "outputs": [
    {
     "data": {
      "text/plain": [
       "array([[<matplotlib.axes._subplots.AxesSubplot object at 0x7f5abc2fd250>]],\n",
       "      dtype=object)"
      ]
     },
     "execution_count": 6,
     "metadata": {},
     "output_type": "execute_result"
    },
    {
     "data": {
      "image/png": "iVBORw0KGgoAAAANSUhEUgAAAYAAAAEICAYAAABWJCMKAAAABHNCSVQICAgIfAhkiAAAAAlwSFlzAAALEgAACxIB0t1+/AAAADl0RVh0U29mdHdhcmUAbWF0cGxvdGxpYiB2ZXJzaW9uIDIuMS4yLCBodHRwOi8vbWF0cGxvdGxpYi5vcmcvNQv5yAAAFztJREFUeJzt3X+QXWd93/H3JzaGxKFIwnTrSgpSgkrGtIPj7tjOQJktbiTZbSO3A9QME6uOMmpnRAqdtI0dOqMUcAudNi6eBLdqLSozBOM6eKwBGqMI7qT5w8Y2GOMfcbQYO5JqW8SSTRYCici3f5xn0bXQdu+uVrv2nvdr5s495znPOfec79zVR+e5596TqkKS1D8/stQ7IElaGgaAJPWUASBJPWUASFJPGQCS1FMGgCT1lAEgzUGSv5PksaXeD2khxO8BSFI/eQYgjSjJ2Uu9D9JCMgDUe0meSHJdkkeSHEvysSSvSDKR5FCSX03yNPCx6bahddcm+XSSbyZ5NslvDi37xSSPtm3eleS1S3KA0gwMAKnzLmAT8FPA3wD+bWv/a8Aq4LXA9uEVkpwFfAZ4ElgHrAZubcu2AL8G/GPgNcD/AT55ho9BmhMDQOr8ZlUdrKqjwPXAO1v7XwI7q+p7VfVnJ61zMfDXgX9dVd+uqu9W1R+0Zf8c+A9V9WhVHQf+PXChZwF6MTEApM7Boekn6f5hB/hmVX13hnXWAk+2f+BP9lrgI0meS/IccBQI3VmC9KLgh1pSZ+3Q9E8A/7dN//8ukzsI/ESSs08RAgeB66vqEwu4j9KC8gxA6uxIsibJKuB9wKdGWOdLwFPAh5Kc2z44flNb9l+B65K8ASDJq5K8/YzsuTRPBoDU+W3g88DjwNeBD862QlV9H/iHwOuAPwYOAf+kLbsD+DBwa5JvAQ8Bl5+RPZfmyS+CqfeSPAH8UlX93lLvi7SYPAOQpJ4yACSppxwCkqSe8gxAknrqRf09gPPOO6/WrVs3r3W//e1vc+655y7sDr0EWYcTrEXHOnSWcx3uv//+P6mq18zW70UdAOvWreO+++6b17qDwYCJiYmF3aGXIOtwgrXoWIfOcq5DkidH6ecQkCT1lAEgST01UgAk+ZdJHk7yUJJPtq+8r09yT5LJJJ9Kck7r+/I2P9mWrxvaznWt/bEkm87MIUmSRjFrACRZDfwLYLyq/iZwFnAV3dfcb6iq1wHHgG1tlW3AsdZ+Q+tHkgvaem8ANgMfbb+nLklaAqMOAZ0N/Gi7Jd6P0f0A1luB29vyPcCVbXpLm6ctvyxJWvut7XfVvwFM0v2euiRpCcx6FVBVHU7yn+h+7OrP6H4w637guaGfwD3Eid85X037bfWqOp7keeDVrf3uoU0Pr/MDSbbT7rw0NjbGYDCY+1EBU1NT8153ObEOJ1iLjnXoWIcRAiDJSrr/va8HngP+F90QzhlRVbuAXQDj4+M138u0lvMlXnNhHU6wFh3r0LEOow0B/T3gG1X1zar6C+DTwJuAFW1ICGANcLhNH6bdXKMtfxXw7HD7KdaRJC2yUQLgj4FLk/xYG8u/DHgE+CLwttZnK3Bnm97b5mnLv1DdDw7tBa5qVwmtBzbQ3VBDkrQERvkM4J4ktwNfBo4DX6Ebovks3c0uPtjabm6r3Ax8PMkk3X1Qr2rbeTjJbXThcRzY0W6oIUlaAiP9FERV7QR2ntT8OKe4iqfdQPuUt76rquuB6+e4j5KkM8BvAktSTxkAktRTBoAk9ZQBIEk9ZQBIUk8ZAJLUUwaAJPWUASBJPWUASFJPGQCS1FMGgCT1lAEgST1lAEhSTxkAktRTBoAk9ZQBIEk9ZQBIUk/NGgBJXp/kgaHHt5K8N8mqJPuSHGjPK1v/JLkxyWSSB5NcNLStra3/gSRbZ35VSdKZNmsAVNVjVXVhVV0I/G3gO8AdwLXA/qraAOxv8wCX093wfQOwHbgJIMkquttKXkJ3K8md06EhSVp8cx0Cugz4elU9CWwB9rT2PcCVbXoLcEt17gZWJDkf2ATsq6qjVXUM2AdsPu0jkCTNy0g3hR9yFfDJNj1WVU+16aeBsTa9Gjg4tM6h1jZT+wsk2U535sDY2BiDwWCOu9iZmpqa97rLiXU4wVp0rEPHOswhAJKcA/w8cN3Jy6qqktRC7FBV7QJ2AYyPj9fExMS8tjMYDJjvusuJdTjBWnSsQ8c6zG0I6HLgy1X1TJt/pg3t0J6PtPbDwNqh9da0tpnaJUlLYC4B8E5ODP8A7AWmr+TZCtw51H51uxroUuD5NlR0F7Axycr24e/G1iZJWgIjDQElORf4OeCfDTV/CLgtyTbgSeAdrf1zwBXAJN0VQ9cAVNXRJB8A7m393l9VR0/7CCRJ8zJSAFTVt4FXn9T2LN1VQSf3LWDHDNvZDeye+25Kkhaa3wSWpJ4yACSppwwASeopA0CSesoAkKSeMgAkqacMAEnqKQNAknrKAJCknjIAJKmnDABJ6ikDQJJ6ygCQpJ4yACSppwwASeopA0CSesoAkKSeMgAkqadGCoAkK5LcnuQPkzya5GeTrEqyL8mB9ryy9U2SG5NMJnkwyUVD29na+h9IsnXmV5QknWmjngF8BPjdqvpp4I3Ao8C1wP6q2gDsb/MAlwMb2mM7cBNAklXATuAS4GJg53RoSJIW36wBkORVwFuAmwGq6s+r6jlgC7CnddsDXNmmtwC3VOduYEWS84FNwL6qOlpVx4B9wOYFPRpJ0sjOHqHPeuCbwMeSvBG4H3gPMFZVT7U+TwNjbXo1cHBo/UOtbab2F0iyne7MgbGxMQaDwajH8gJTU1PzXnc5sQ4nWIuOdehYh9EC4GzgIuCXq+qeJB/hxHAPAFVVSWohdqiqdgG7AMbHx2tiYmJe2xkMBsx33eXEOpxgLTrWoWMdRvsM4BBwqKruafO30wXCM21oh/Z8pC0/DKwdWn9Na5upXZK0BGYNgKp6GjiY5PWt6TLgEWAvMH0lz1bgzja9F7i6XQ10KfB8Gyq6C9iYZGX78Hdja5MkLYFRhoAAfhn4RJJzgMeBa+jC47Yk24AngXe0vp8DrgAmge+0vlTV0SQfAO5t/d5fVUcX5CgkSXM2UgBU1QPA+CkWXXaKvgXsmGE7u4Hdc9lBSdKZ4TeBJamnDABJ6ikDQJJ6ygCQpJ4yACSppwwASeopA0CSesoAkKSeMgAkqacMAEnqKQNAknrKAJCknjIAJKmnDABJ6ikDQJJ6ygCQpJ4yACSpp0YKgCRPJPlakgeS3NfaViXZl+RAe17Z2pPkxiSTSR5MctHQdra2/geSbJ3p9SRJZ95czgD+blVdWFXTt4a8FthfVRuA/W0e4HJgQ3tsB26CLjCAncAlwMXAzunQkCQtvtMZAtoC7GnTe4Arh9pvqc7dwIok5wObgH1VdbSqjgH7gM2n8fqSpNMw0k3hgQI+n6SA/1ZVu4CxqnqqLX8aGGvTq4GDQ+seam0ztb9Aku10Zw6MjY0xGAxG3MUXmpqamve6y4l1OMFadKxDxzqMHgBvrqrDSf4qsC/JHw4vrKpq4XDaWrjsAhgfH6+JiYl5bWcwGDDfdZcT63CCtehYh451GHEIqKoOt+cjwB10Y/jPtKEd2vOR1v0wsHZo9TWtbaZ2SdISmDUAkpyb5JXT08BG4CFgLzB9Jc9W4M42vRe4ul0NdCnwfBsqugvYmGRl+/B3Y2uTJC2BUYaAxoA7kkz3/+2q+t0k9wK3JdkGPAm8o/X/HHAFMAl8B7gGoKqOJvkAcG/r9/6qOrpgRyJJmpNZA6CqHgfeeIr2Z4HLTtFewI4ZtrUb2D333ZQkLTS/CSxJPWUASFJPGQCS1FMGgCT1lAEgST1lAEhSTxkAktRTBoAk9ZQBIEk9ZQBIUk8ZAJLUUwaAJPWUASBJPWUASFJPGQCS1FMGgCT1lAEgST01cgAkOSvJV5J8ps2vT3JPkskkn0pyTmt/eZufbMvXDW3jutb+WJJNC30wkqTRzeUM4D3Ao0PzHwZuqKrXAceAba19G3Cstd/Q+pHkAuAq4A3AZuCjSc46vd2XJM3XSAGQZA3w94H/0eYDvBW4vXXZA1zZpre0edryy1r/LcCtVfW9qvoG3U3jL16Ig5Akzd2sN4Vv/gvwb4BXtvlXA89V1fE2fwhY3aZXAwcBqup4kudb/9XA3UPbHF7nB5JsB7YDjI2NMRgMRj2WF5iampr3usuJdTjBWnSsQ8c6jBAASf4BcKSq7k8ycaZ3qKp2AbsAxsfHa2Jifi85GAyY77rLiXU4wVp0rEPHOox2BvAm4OeTXAG8AvgrwEeAFUnObmcBa4DDrf9hYC1wKMnZwKuAZ4fapw2vI0laZLN+BlBV11XVmqpaR/ch7heq6l3AF4G3tW5bgTvb9N42T1v+haqq1n5Vu0poPbAB+NKCHYkkaU5G/QzgVH4VuDXJB4GvADe39puBjyeZBI7ShQZV9XCS24BHgOPAjqr6/mm8viTpNMwpAKpqAAza9OOc4iqeqvou8PYZ1r8euH6uOylJWnh+E1iSesoAkKSeMgAkqacMAEnqKQNAknrKAJCknjIAJKmnDABJ6ikDQJJ6ygCQpJ4yACSppwwASeopA0CSesoAkKSeMgAkqacMAEnqKQNAknrKAJCknpo1AJK8IsmXknw1ycNJ/l1rX5/kniSTST6V5JzW/vI2P9mWrxva1nWt/bEkm87UQUmSZjfKGcD3gLdW1RuBC4HNSS4FPgzcUFWvA44B21r/bcCx1n5D60eSC+huEP8GYDPw0SRnLeTBSJJGN2sAVGeqzb6sPQp4K3B7a98DXNmmt7R52vLLkqS131pV36uqbwCTnOKm8pKkxXH2KJ3a/9TvB14H/BbwdeC5qjreuhwCVrfp1cBBgKo6nuR54NWt/e6hzQ6vM/xa24HtAGNjYwwGg7kdUTM1NTXvdZcT63CCtehYh451GDEAqur7wIVJVgB3AD99pnaoqnYBuwDGx8drYmJiXtsZDAbMd93lxDqcYC061qFjHeZ4FVBVPQd8EfhZYEWS6QBZAxxu04eBtQBt+auAZ4fbT7GOJGmRjXIV0Gva//xJ8qPAzwGP0gXB21q3rcCdbXpvm6ct/0JVVWu/ql0ltB7YAHxpoQ5EkjQ3owwBnQ/saZ8D/AhwW1V9JskjwK1JPgh8Bbi59b8Z+HiSSeAo3ZU/VNXDSW4DHgGOAzva0JIkaQnMGgBV9SDwM6dof5xTXMVTVd8F3j7Dtq4Hrp/7bkqSFprfBJaknjIAJKmnDABJ6ikDQJJ6ygCQpJ4yACSppwwASeopA0CSesoAkKSeMgAkqacMAEnqKQNAknrKAJCknjIAJKmnDABJ6ikDQJJ6ygCQpJ4a5Z7Aa5N8MckjSR5O8p7WvirJviQH2vPK1p4kNyaZTPJgkouGtrW19T+QZOtMrylJOvNGOQM4DvxKVV0AXArsSHIBcC2wv6o2APvbPMDldDd83wBsB26CLjCAncAldLeS3DkdGpKkxTdrAFTVU1X15Tb9p8CjwGpgC7CnddsDXNmmtwC3VOduYEWS84FNwL6qOlpVx4B9wOYFPRpJ0shmvSn8sCTr6G4Qfw8wVlVPtUVPA2NtejVwcGi1Q61tpvaTX2M73ZkDY2NjDAaDueziD0xNTc173eXEOpxgLTrWoWMd5hAASX4c+B3gvVX1rSQ/WFZVlaQWYoeqahewC2B8fLwmJibmtZ3BYMB8111OrMMJ1qJjHTrWYcSrgJK8jO4f/09U1adb8zNtaIf2fKS1HwbWDq2+prXN1C5JWgKjXAUU4Gbg0ar6jaFFe4HpK3m2AncOtV/drga6FHi+DRXdBWxMsrJ9+LuxtUmSlsAoQ0BvAn4B+FqSB1rbrwEfAm5Lsg14EnhHW/Y54ApgEvgOcA1AVR1N8gHg3tbv/VV1dEGOQpI0Z7MGQFX9AZAZFl92iv4F7JhhW7uB3XPZQUnSmeE3gSWppwwASeopA0CSesoAkKSeMgAkqacMAEnqKQNAknrKAJCknjIAJKmnDABJ6ikDQJJ6ygCQpJ4yACSppwwASeopA0CSesoAkKSeMgAkqadGuSfw7iRHkjw01LYqyb4kB9rzytaeJDcmmUzyYJKLhtbZ2vofSLL1VK8lSVo8o5wB/E9g80lt1wL7q2oDsL/NA1wObGiP7cBN0AUGsBO4BLgY2DkdGotl3bWfXcyXk6QXvVkDoKp+Hzj55u1bgD1teg9w5VD7LdW5G1iR5HxgE7Cvqo5W1TFgHz8cKpKkRTTrTeFnMFZVT7Xpp4GxNr0aODjU71Brm6n9hyTZTnf2wNjYGIPBYF47ODU19YJ1f+VvHZ/3tl7KTq5Dn1mLjnXoWIf5B8APVFUlqYXYmba9XcAugPHx8ZqYmJjXdgaDAcPr/tNrP8sT75rftl7KTq5Dn1mLjnXoWIf5XwX0TBvaoT0fae2HgbVD/da0tpnaJUlLZL4BsBeYvpJnK3DnUPvV7WqgS4Hn21DRXcDGJCvbh78bW5skaYnMOgSU5JPABHBekkN0V/N8CLgtyTbgSeAdrfvngCuASeA7wDUAVXU0yQeAe1u/91fVyR8sS5IW0awBUFXvnGHRZafoW8COGbazG9g9p72TJJ0xfhNYknrKAJCknjIAJKmnDABJ6ikDQJJ6ygCQpJ4yACSpp3oXAP4stCR1ehcAkqSOASBJPWUASFJPGQCS1FMGgCT1lAEgST1lAEhSTxkAktRTBoAk9VRvA8BvBEvqu0UPgCSbkzyWZDLJtYv9+pKkzqIGQJKzgN8CLgcuAN6Z5ILF3AdJUmexzwAuBiar6vGq+nPgVmDLIu/DGTE9pOTQkqSXilTV4r1Y8jZgc1X9Upv/BeCSqnr3UJ/twPY2+3rgsXm+3HnAn5zG7i4X1uEEa9GxDp3lXIfXVtVrZut09mLsyVxU1S5g1+luJ8l9VTW+ALv0kmYdTrAWHevQsQ6LPwR0GFg7NL+mtUmSFtliB8C9wIYk65OcA1wF7F3kfZAkschDQFV1PMm7gbuAs4DdVfXwGXq50x5GWiaswwnWomMdOr2vw6J+CCxJevHo7TeBJanvDABJ6qllGQB9+7mJJE8k+VqSB5Lc19pWJdmX5EB7Xtnak+TGVpsHk1y0tHs/f0l2JzmS5KGhtjkfd5Ktrf+BJFuX4lhOxwx1+PUkh9t74oEkVwwtu67V4bEkm4baX9J/N0nWJvlikkeSPJzkPa29d++JkVXVsnrQfbj8deAngXOArwIXLPV+neFjfgI476S2/whc26avBT7cpq8A/jcQ4FLgnqXe/9M47rcAFwEPzfe4gVXA4+15ZZteudTHtgB1+HXgX52i7wXtb+LlwPr2t3LWcvi7Ac4HLmrTrwT+qB1v794Toz6W4xnAsv25iTnaAuxp03uAK4fab6nO3cCKJOcvxQ6erqr6feDoSc1zPe5NwL6qOlpVx4B9wOYzv/cLZ4Y6zGQLcGtVfa+qvgFM0v3NvOT/bqrqqar6cpv+U+BRYDU9fE+MajkGwGrg4ND8oda2nBXw+ST3t5/SABirqqfa9NPAWJte7vWZ63Ev53q8uw1t7J4e9qAndUiyDvgZ4B58T8xoOQZAH725qi6i+5XVHUneMrywuvPa3l3v29fjbm4Cfgq4EHgK+M9LuzuLJ8mPA78DvLeqvjW8rOfviR+yHAOgdz83UVWH2/MR4A660/lnpod22vOR1n2512eux70s61FVz1TV96vqL4H/TveegGVehyQvo/vH/xNV9enW7HtiBssxAHr1cxNJzk3yyulpYCPwEN0xT1+9sBW4s03vBa5uV0BcCjw/dHq8HMz1uO8CNiZZ2YZJNra2l7STPtf5R3TvCejqcFWSlydZD2wAvsQy+LtJEuBm4NGq+o2hRb4nZrLUn0KfiQfdp/t/RHdVw/uWen/O8LH+JN0VG18FHp4+XuDVwH7gAPB7wKrWHrqb8nwd+BowvtTHcBrH/km64Y2/oBun3Taf4wZ+ke7D0EngmqU+rgWqw8fbcT5I9w/d+UP939fq8Bhw+VD7S/rvBngz3fDOg8AD7XFFH98Toz78KQhJ6qnlOAQkSRqBASBJPWUASFJPGQCS1FMGgCT1lAEgST1lAEhST/0/W0Nh0cvPZrQAAAAASUVORK5CYII=\n",
      "text/plain": [
       "<matplotlib.figure.Figure at 0x7f5ab64c1dd0>"
      ]
     },
     "metadata": {},
     "output_type": "display_data"
    }
   ],
   "source": [
    "#drop null values in 'price' column because this is the column we want to run analysis on. save null value rows to use as test data.\n",
    "\n",
    "#[add graph to show data used vs data removed]\n",
    "\n",
    "train = df.dropna(subset=['price', 'points'])\n",
    "train.hist('price', bins=10000)"
   ]
  },
  {
   "cell_type": "code",
   "execution_count": 23,
   "metadata": {},
   "outputs": [],
   "source": [
    "#assign test data to variable \n",
    "test = df[df['price'].isnull()]"
   ]
  },
  {
   "cell_type": "markdown",
   "metadata": {},
   "source": [
    "# Pairwise Scatter Plot\n",
    "A pairwise scatter plot is an excellent tool to quickly understand correlation between *n* amount of variables by crafting an *n* x *n* matrix of the variables. In this case, *n* = 2, so we see a 2x2 matrix.\n",
    "\n",
    "We have our scatter plot below. The diagonal can be ignored since it is comparing a variable against itself. We chose to study the relationship *price ~ points* based on how the scatterplot in the bottom left looks. We can see that a linear relationship can be formed where *points* (x-axis) acts as a dependent variable with *price* (y-axis) as an independent variable.  "
    "Let's take a closer look at the numerical type data, price and points. Naturally, we suspect a general correlation between these two; the pricer the wine the better it should be rated, right? By including a pairplot using the seaborn package, we can quickly see a visual summary of the correlation between these variables. \n",
    "\n",
    "Note that we are not hypothesizing nor analyzing for causation. The price of the wine could very well have influenced the rater's decision but that is out of scope for this analysis."
   ]
  },
  {
   "cell_type": "code",
   "execution_count": 24,
   "metadata": {},
   "outputs": [
    {
     "data": {
      "text/plain": [
       "<seaborn.axisgrid.PairGrid at 0x1ae85648240>"
      ]
     },
     "execution_count": 24,
     "metadata": {},
     "output_type": "execute_result"
    },
    {
     "data": {
      "image/png": "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\n",
      "text/plain": [
       "<matplotlib.figure.Figure at 0x1ae85648828>"
      ]
     },
     "metadata": {},
     "output_type": "display_data"
    }
   ],
   "source": [
    "sns.pairplot(train[[\"points\", \"price\"]])"
   ]
  },
  {
   "cell_type": "code",
   "execution_count": 7,
   "metadata": {},
   "outputs": [],
   "source": [
    "#condense data to remove outliers (price <500). this is an arbitrary number that captures a majority of the data\n",
    "\n",
    "train = train[train['price']<200]"
   ]
  },
  {
   "cell_type": "code",
   "execution_count": 25,
   "metadata": {},
   "outputs": [
    {
     "data": {
      "text/plain": [
       "<matplotlib.axes._subplots.AxesSubplot at 0x1ae825e6630>"
      ]
     },
     "execution_count": 25,
     "metadata": {},
     "output_type": "execute_result"
    },
    {
     "data": {
      "image/png": "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\n",
      "text/plain": [
       "<matplotlib.figure.Figure at 0x1aefcf91128>"
      ]
     },
     "metadata": {},
     "output_type": "display_data"
    }
   ],
   "source": [
    "train['price'].hist(bins=20)"
    "##### Explore data (find patterns, show visuals) -- use statistics"
   ]
  },
  {
   "cell_type": "markdown",
   "metadata": {},
   "source": [
    "# Modeling\n",
    "\n",
    "##### Test Case: Univariate linear regression\n",
    "Univariate linear regression is a simple model that focuses on the relationship between a dependent variable and an independent variable. In this simple linear model, we'd like to study the relationship between [varaible] and wine pricing to understand how the pricing model is affected.\n",
    "\n",
    "We will proceed with a hypothesis parameter and then evaluating the error using orderinary least squares (OLS).\n",
    "\n",
    "##### Full Model: Random Forest Model\n",
    "The linear regression model works well with a single variable case, however lacks in complexity of nonlinear and interdependent relationships. A random forest model and capture those. A random forest decision tree is an ensemble method. \n",
    "\n",
    "We'd like to create a model that understands pricing using the rest of the data in the dataset and evaluate the error from this model against the univariate model\n",
    "##### choose ds model and explain"
   ]
  },
  {
   "cell_type": "markdown",
   "metadata": {},
   "source": [
    "# Test Case: Univariate linear regression\n",
    "\n",
    "##### segment data\n",
    "##### run analysis\n",
    "##### infer to other segments of data"
   ]
  },
  {
   "cell_type": "markdown",
   "metadata": {},
   "source": [
    "# Full Model: Random Forest Model\n",
    "\n",
    "##### run analysis \n",
    "##### compare to test case(s)"
   ]
  },
  {
   "cell_type": "markdown",
   "metadata": {},
   "source": [
    "# Conclusions\n",
    "\n",
    "##### Explain findings"
   ]
  },
  {
   "cell_type": "code",
   "execution_count": null,
   "metadata": {},
   "outputs": [],
   "source": []
  }
 ],
 "metadata": {
  "kernelspec": {
   "display_name": "Python 3",
   "language": "python",
   "name": "python3"
  },
  "language_info": {
   "codemirror_mode": {
    "name": "ipython",
    "version": 3
   },
   "file_extension": ".py",
   "mimetype": "text/x-python",
   "name": "python",
   "nbconvert_exporter": "python",
   "pygments_lexer": "ipython3",
   "version": "3.6.3"
  }
 },
 "nbformat": 4,
 "nbformat_minor": 2
}
