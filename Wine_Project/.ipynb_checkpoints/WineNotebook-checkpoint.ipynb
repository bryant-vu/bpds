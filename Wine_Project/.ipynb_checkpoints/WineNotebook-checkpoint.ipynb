{
 "cells": [
  {
   "cell_type": "markdown",
   "metadata": {},
   "source": [
    "# Abstract"
   ]
  },
  {
   "cell_type": "markdown",
   "metadata": {},
   "source": [
    "# Background\n",
    "\n",
    "##### Frame problem\n",
    "Most of the time I don't know what I should be looking at when I peruse the wine aisle. I'll look at a row of wine and ask myself: Will this wine taste good? Why is this one more expensive than the other one? What does Cabernet mean? Does it *really* matter where a wine comes from? How do you even rate these things?\n",
    "\n",
    "We wanted to understand how wines were priced to better fuel our alcholic habits. Living in California, we are spoiled to reside in one of the most wine rich areas in the world. Is it *worth* it to spend some extra money for a Spanish wine to only taste the same as what I could grow in my backyard? How do you even determine how it will be better? We'd drink it either way, but we're frugal alcoholics. \n",
    "\n",
    "##### Introduce hypothesis\n",
    "This notebook will answer the factors that lead into pricing wines. "
   ]
  },
  {
   "cell_type": "markdown",
   "metadata": {},
   "source": [
    "# Dataset\n",
    "\n",
    "##### Where did data come from\n",
    "##### Why do we like this data\n",
    "##### Clean data\n",
    "##### Explore data (find patterns, show visuals) -- use statistics"
   ]
  },
  {
   "cell_type": "markdown",
   "metadata": {},
   "source": [
    "# Modeling\n",
    "\n",
    "##### choose ds model and explain"
   ]
  },
  {
   "cell_type": "markdown",
   "metadata": {},
   "source": [
    "# Test Case\n",
    "\n",
    "##### segment data\n",
    "##### run analysis\n",
    "##### infer to other segments of data"
   ]
  },
  {
   "cell_type": "markdown",
   "metadata": {},
   "source": [
    "# Full Model\n",
    "\n",
    "##### run analysis \n",
    "##### compare to test case(s)"
   ]
  },
  {
   "cell_type": "markdown",
   "metadata": {},
   "source": [
    "# Conclusions\n",
    "\n",
    "##### Explain findings"
   ]
  },
  {
   "cell_type": "code",
   "execution_count": null,
   "metadata": {},
   "outputs": [],
   "source": []
  }
 ],
 "metadata": {
  "kernelspec": {
   "display_name": "Python 3",
   "language": "python",
   "name": "python3"
  },
  "language_info": {
   "codemirror_mode": {
    "name": "ipython",
    "version": 3
   },
   "file_extension": ".py",
   "mimetype": "text/x-python",
   "name": "python",
   "nbconvert_exporter": "python",
   "pygments_lexer": "ipython3",
   "version": "3.6.4"
  }
 },
 "nbformat": 4,
 "nbformat_minor": 2
}
